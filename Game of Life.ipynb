{
 "cells": [
  {
   "cell_type": "markdown",
   "metadata": {},
   "source": [
    "# Game of Life\n",
    "## Cellular Automaton\n",
    "### by [Sameer Kumar](https://sites.google.com/view/bvsk35/home?authuser=0)"
   ]
  },
  {
   "cell_type": "markdown",
   "metadata": {},
   "source": [
    "## Introduction\n",
    "The [Game of Life](https://en.wikipedia.org/wiki/Conway%27s_Game_of_Life), also known simply as Life, is a [cellular automaton](https://en.wikipedia.org/wiki/Cellular_automaton) devised by the British mathematician John Horton Conway in 1970. The game is a zero-player game, meaning that its evolution is determined by its initial state, requiring no further input. One interacts with the Game of Life by creating an initial configuration and observing how it evolves, or, for advanced players, by creating patterns with particular properties.\n",
    "\n",
    "## Origins\n",
    "In late 1940, John von Neumann defined life as a creation (as a being or organism) which can reproduce itself and simulate a Turing machine. Von Neumann was thinking about an engineering solution which would use electromagnetic components floating randomly in liquid or gas. This turned out not to be realistic with the technology available at the time. Stanislaw Ulam invented cellular automata, which were intended to simulate von Neumann's theoretical electromagnetic constructions. Ulam discussed using computers to simulate his cellular automata in a two-dimensional lattice in several papers. In parallel, Von Neumann attempted to construct Ulam's cellular automaton. Although successful, he was busy with other projects and left some details unfinished. His construction was complicated because it tried to simulate his own engineering design. Over time, simpler life constructions were provided by other researchers, and published in papers and books.\n",
    "\n",
    "Motivated by questions in mathematical logic and in part by work on simulation games by Ulam, among others, John Conway began doing experiments in 1968 with a variety of different 2D cellular automaton rules. Conway's initial goal was to define an interesting and unpredictable cell automaton. Thus, he wanted some configurations to last for a long time before dying, other configurations to go on forever without allowing cycles, etc. It was a significant challenge and an open problem for years before experts on cell automatons managed to prove that, indeed, Conway's Game of Life admitted of a configuration which was alive in the sense of satisfying Von Neumann's two general requirements. While the definitions before Conway's Life were proof-oriented, Conway's construction aimed at simplicity without a priori providing proof the automaton was alive.\n",
    "\n",
    "Conway chose his rules carefully, after considerable experimentation, to meet these criteria:\n",
    "- There should be no explosive growth.\n",
    "- There should exist small initial patterns with chaotic, unpredictable outcomes.\n",
    "- There should be potential for [von Neumann universal constructors](https://en.wikipedia.org/wiki/Von_Neumann_universal_constructor).\n",
    "- The rules should be as simple as possible, whilst adhering to the above constraints.\n",
    "\n",
    "The game made its first public appearance in the October 1970 issue of Scientific American, in Martin Gardner's \"Mathematical Games\" column. Theoretically, Conway's Life has the power of a **universal Turing machine**: anything that can be computed algorithmically can be computed within Life. That is, a computer which can compute game of life steps could, in theory, use this process to compute just about anything. Gardner wrote, \"Because of Life's analogies with the rise, fall and alterations of a society of living organisms, it belongs to a growing class of what are called 'simulation games' (games that resemble real life processes).\"\n",
    "\n",
    "Since its publication, Conway's Game of Life has attracted much interest, because of the surprising ways in which the patterns can evolve. Life provides an example of emergence and self-organization. Scholars in various fields, such as computer science, physics, biology, biochemistry, economics, mathematics, philosophy, and generative sciences have made use of the way that complex patterns can emerge from the implementation of the game's simple rules. The game can also serve as a didactic analogy, used to convey the somewhat counter-intuitive notion that design and organization can spontaneously emerge in the absence of a designer. For example, cognitive scientist Daniel Dennett has used the analogy of Conway's Life \"universe\" extensively to illustrate the possible evolution of complex philosophical constructs, such as consciousness and free will, from the relatively simple set of deterministic physical laws, which might govern our universe.\n",
    "\n",
    "The popularity of Conway's Game of Life was helped by its coming into being just in time for a new generation of inexpensive computer access which was being released into the market. The game could be run for hours on these machines, which would otherwise have remained unused at night. In this respect, it foreshadowed the later popularity of computer-generated fractals. For many, Life was simply a programming challenge: a fun way to use otherwise wasted CPU cycles. For some, however, Life had more philosophical connotations. It developed a cult following through the 1970s and beyond; current developments have gone so far as to create theoretic emulations of computer systems within the confines of a Life board.\n",
    "\n",
    "## More Discussion and interesting observations\n",
    "- More detailed discussion can be found on the [wikipedia page](https://en.wikipedia.org/wiki/Conway%27s_Game_of_Life) and other source like [game of life wiki 1](http://conwaylife.com/), [game of life wiki 2](http://www.conwaylife.com/wiki/Main_Page). There are many patterns to explore and have been explored. These can be found in above links. \n",
    "- Here the code given below computes the game of life on toriodal plane i.e., based on periodic boundary conditions [link](https://en.wikipedia.org/wiki/Periodic_boundary_conditions), but it is played on a infinite plane. Hence this code doesn't replicate the actual patterns precisely but for few 100 iterations it should be fine.\n",
    "- More faster algorithms for computing have been found by [Bill Gosper](https://en.wikipedia.org/wiki/Bill_Gosper) know as [hashlife](https://en.wikipedia.org/wiki/Hashlife). For running bigger simulations we will need more efficient algorithms.\n",
    "- There is a interesting software which can do much more better work regarding Game of Life simulation know as [Golly](http://golly.sourceforge.net/). This can be installed on a PC. They use Lua for faster simulation. This software provides more interesting and complicated patterns.\n",
    "- You can listen to the explanation about Game of Life in Conway's own words [here](https://www.youtube.com/watch?v=R9Plq-D1gEk) and [here](https://www.youtube.com/watch?v=R9Plq-D1gEk). This propelled him into immense popularity among mathematicans but he didn't like it because it overshowded his other great on Group theory (he described the existence of the Monster Group!!!), he also worked on Surreal Numbers (he was very proud about this discovery). He has worked on many more things.\n",
    "\n",
    "## Rules for Game of Life\n",
    "In 1970 the British Mathematician [John Conway](https://en.wikipedia.org/wiki/John_Horton_Conway) created his \"Game of Life\" a set of rules that mimics the chaotic yet patterned growth of a colony of biological organisms. The \"game\" takes place on a two-dimensional grid consisting of \"living\" and \"dead\" cells, and the rules to step from generation to generation are simple:\n",
    "- **Overpopulation:** if a living cell is surrounded by more than three living cells, it dies.\n",
    "- **Stasis:** if a living cell is surrounded by two or three living cells, it survives.\n",
    "- **Underpopulation:** if a living cell is surrounded by fewer than two living cells, it dies.\n",
    "- **Birth:** if a dead cell is surrounded by exactly three cells, it becomes a live cell.\n",
    "\n",
    "By enforcing these rules in sequential steps, beautiful and unexpected patterns can appear.\n",
    "\n",
    "Incredibly, it has even been shown that a Universal Turing Machine can be created within the rules of the game of life.\n",
    "\n",
    "For example below you can see Glider pattern. ![](Glider.gif)"
   ]
  },
  {
   "cell_type": "code",
   "execution_count": 1,
   "metadata": {},
   "outputs": [],
   "source": [
    "# Import libraries\n",
    "%matplotlib inline\n",
    "import numpy as np\n",
    "from scipy.signal import convolve2d\n",
    "import matplotlib.pyplot as plt\n",
    "import matplotlib.animation as animation\n",
    "from copy import deepcopy\n",
    "from IPython.display import HTML"
   ]
  },
  {
   "cell_type": "markdown",
   "metadata": {},
   "source": [
    "### Code for simulating the Game of Life\n",
    "Code for creating and starting the simulation of game of life. Pixel values: 1 indicates ON/Alive cell and 0 indicates OFF/Dead cell."
   ]
  },
  {
   "cell_type": "code",
   "execution_count": 2,
   "metadata": {},
   "outputs": [],
   "source": [
    "class GameOfLife(object):\n",
    "    def __init__(self):\n",
    "        '''\n",
    "        init: \n",
    "            Prints some useful statements and initializes some variables.\n",
    "        '''\n",
    "        print('-'*50)\n",
    "        print('Generating inital configuration....')\n",
    "        self.vals = [1, 0]\n",
    "    \n",
    "    def gen_RandGrid(self, N=20, p=0.2):\n",
    "        '''\n",
    "        gen_rand_grid: \n",
    "            Generate a random grid of size n x n filled with either 1 or 0 values. \n",
    "            This will be used to start point in the game of life and next stages will be computed based on this.\n",
    "        Args:\n",
    "            p: probability of one cell being alive in the grid is p and \n",
    "                probability of one cell being dead in the grid is 1-p\n",
    "        Return:\n",
    "            grid array of size n x n filled with 1 or 0 values\n",
    "        '''\n",
    "        print('Starting Game of Life with Random grid....')\n",
    "        print('-'*50)\n",
    "        self.N = N\n",
    "        self.grid = np.random.choice(self.vals, (self.N, self.N), p=[p, 1-p])\n",
    "        \n",
    "    def gen_ManualGrid(self, grid):\n",
    "        '''\n",
    "        gen_ManualGrid:\n",
    "            This function allows to feed user generated grid. Rectangular grids will be rounded to sqaure based \n",
    "            on their largest side.\n",
    "        Arg:\n",
    "            grid: array randomly filled with 1 or 0 values.\n",
    "        '''\n",
    "        print('Starting Game of Life with Manually set grid....')\n",
    "        print('-'*50)\n",
    "        self.grid = grid\n",
    "        self.N = max(self.grid.shape[0], self.grid.shape[0])\n",
    "    \n",
    "    # Below are some famous patterns that can be found in Game of Life\n",
    "    # There are even more complex grids coding them will require more patience in python\n",
    "    # For example \"Breeder\" these can kind of patterns and many more things can be found\n",
    "    # in software know as Golly (infact you can create big pattern which produces \"Golly\" word \n",
    "    # in an infinite loop)\n",
    "    def gen_StaticConfigurations(self):\n",
    "        '''\n",
    "        gen_StaticConfigurations:\n",
    "            This function starts the game with some static configurations i.e., these cells don't move\n",
    "            from their positions forever.\n",
    "        '''\n",
    "        print('Starting Game of Life with Static Configuration....')\n",
    "        print('-'*50)\n",
    "        self.N = 21\n",
    "        self.grid = np.zeros((self.N, self.N))\n",
    "        self.grid[2:4, 1:3] = 1\n",
    "        self.grid[1:4, 5:9] = [[0, 1, 1, 0], [1, 0, 0, 1], [0, 1, 1, 0]]\n",
    "        self.grid[1:5, 11:15] = [[0, 1, 1, 0], [1, 0, 0, 1], [0, 1, 0, 1], [0, 0, 1, 0]]\n",
    "        self.grid[1:4, 17:20] = [[1, 1, 0], [1, 0, 1], [0, 1, 0]]\n",
    "    \n",
    "    def gen_Glider(self):\n",
    "        '''\n",
    "        gen_Glider:\n",
    "            This function starts the game with glider configuration keeps on moving diagonally forver.\n",
    "            It is one of the most famous examples.\n",
    "        '''\n",
    "        print('Starting Game of Life with Glider....')\n",
    "        print('-'*50)\n",
    "        self.N = 20\n",
    "        self.grid = np.zeros((self.N, self.N))\n",
    "        glider = [[1, 0, 0], [0, 1, 1], [1, 1, 0]]\n",
    "        self.grid[:3, :3] = glider\n",
    "    \n",
    "    def gen_Oscillators(self):\n",
    "        '''\n",
    "        gen_Oscillators:\n",
    "            This function starts the game with oscillating configuration i.e., cells again comeback to same \n",
    "            position after some iterations. For the below the examples it is 2, after 2 generations the reach the same \n",
    "            configurations.\n",
    "        '''\n",
    "        print('Starting Game of Life with Oscillators: Toad and Blinker....')\n",
    "        print('-'*50)\n",
    "        blinker = [1, 1, 1]\n",
    "        toad = [[1, 1, 1, 0], [0, 1, 1, 1]]\n",
    "        self.N = 11\n",
    "        self.grid = np.zeros((self.N, self.N))\n",
    "        self.grid[2, 1:4] = blinker\n",
    "        self.grid[2:4, 6:10] = toad\n",
    "    \n",
    "    def gen_Pulsar(self):\n",
    "        '''\n",
    "        gen_Pulsar:\n",
    "            This function starts the game with oscillating configuration like described above but with periodicity 3. \n",
    "        '''\n",
    "        print('Starting Game of Life with Osillator Pulsar....')\n",
    "        print('-'*50)\n",
    "        self.N = 17\n",
    "        self.grid = np.zeros((self.N, self.N))\n",
    "        self.grid[2, 4:7] = 1\n",
    "        self.grid[4:7, 7] = 1\n",
    "        self.grid += self.grid.T\n",
    "        self.grid += self.grid[:, ::-1]\n",
    "        self.grid += self.grid[::-1, :]\n",
    "        \n",
    "    def gen_UnboundedGrowth(self):\n",
    "        '''\n",
    "        gen_UnboundedGrowth:\n",
    "            This function starts the game with simple configuration but grows unboundedly after each update.\n",
    "        '''\n",
    "        print('Starting Game of Life with Unbounded Growth Configuration....')\n",
    "        print('-'*50)\n",
    "        unbounded = [[1, 1, 1, 0, 1], \n",
    "                     [1, 0, 0, 0, 0], \n",
    "                     [0, 0, 0, 1, 1], \n",
    "                     [0, 1, 1, 0, 1], \n",
    "                     [1, 0, 1, 0, 1]]\n",
    "        self.N = 40\n",
    "        self.grid = np.zeros((self.N, self.N))\n",
    "        self.grid[15:20, 18:23] = unbounded\n",
    "    \n",
    "    def gen_GosperGliderGun(self):\n",
    "        '''\n",
    "        gen_GosperGliderGun:\n",
    "            This function starts the game with one of the most famous configuration found by Bill Gosper.\n",
    "            Here this gun like cell configurations give birth 'gliders' regularly after some updates.\n",
    "        '''\n",
    "        print('Starting Game of Life with Gosper Glider Gun....')\n",
    "        print('-'*50)\n",
    "        self.N = 70\n",
    "        self.grid = np.zeros((self.N, self.N))\n",
    "        gun = [[0,0,0,0,0,0,0,0,0,0,0,0,0,0,0,0,0,0,0,0,0,0,0,0,1,0,0,0,0,0,0,0,0,0,0,0], \n",
    "               [0,0,0,0,0,0,0,0,0,0,0,0,0,0,0,0,0,0,0,0,0,0,1,0,1,0,0,0,0,0,0,0,0,0,0,0], \n",
    "               [0,0,0,0,0,0,0,0,0,0,0,0,1,1,0,0,0,0,0,0,1,1,0,0,0,0,0,0,0,0,0,0,0,0,1,1], \n",
    "               [0,0,0,0,0,0,0,0,0,0,0,1,0,0,0,1,0,0,0,0,1,1,0,0,0,0,0,0,0,0,0,0,0,0,1,1], \n",
    "               [1,1,0,0,0,0,0,0,0,0,1,0,0,0,0,0,1,0,0,0,1,1,0,0,0,0,0,0,0,0,0,0,0,0,0,0], \n",
    "               [1,1,0,0,0,0,0,0,0,0,1,0,0,0,1,0,1,1,0,0,0,0,1,0,1,0,0,0,0,0,0,0,0,0,0,0], \n",
    "               [0,0,0,0,0,0,0,0,0,0,1,0,0,0,0,0,1,0,0,0,0,0,0,0,1,0,0,0,0,0,0,0,0,0,0,0], \n",
    "               [0,0,0,0,0,0,0,0,0,0,0,1,0,0,0,1,0,0,0,0,0,0,0,0,0,0,0,0,0,0,0,0,0,0,0,0], \n",
    "               [0,0,0,0,0,0,0,0,0,0,0,0,1,1,0,0,0,0,0,0,0,0,0,0,0,0,0,0,0,0,0,0,0,0,0,0]]\n",
    "        self.grid[1:10,1:37] = gun\n",
    "    \n",
    "    def gen_Diehard(self):\n",
    "        '''\n",
    "        gen_Diehard:\n",
    "            This function starts game with simple configuration which grows for sometime but eventually dies.\n",
    "        '''\n",
    "        print('Starting Game of Life with Diehard Configuration....')\n",
    "        print('-'*50)\n",
    "        diehard = [[0, 0, 0, 0, 0, 0, 1, 0], [1, 1, 0, 0, 0, 0, 0, 0], [0, 1, 0, 0, 0, 1, 1, 1]]\n",
    "        self.N = 30\n",
    "        self.grid = np.zeros((self.N, self.N))\n",
    "        self.grid[7:10, 15:23] = diehard\n",
    "    \n",
    "    def gen_Boat(self):\n",
    "        '''\n",
    "        gen_Boat:\n",
    "            This function starts the game with another static boat-like configuration.\n",
    "        '''\n",
    "        print('Starting Game of Life with Boat Configuration....')\n",
    "        print('-'*50)\n",
    "        boat = [[1, 1, 0], [1, 0, 1], [0, 1, 0]]\n",
    "        self.N = 9\n",
    "        self.grid = np.zeros((self.N, self.N))\n",
    "        self.grid[3:6, 3:6] = boat\n",
    "    \n",
    "    def gen_Beacon(self):\n",
    "        '''\n",
    "        gen_Beacon:\n",
    "            This function starts the game with beacon configuration which keeps blinking. \n",
    "        '''\n",
    "        print('Starting Game of Life with Beacon Configuration....')\n",
    "        print('-'*50)\n",
    "        beacon = [[0, 0, 1, 1], [0, 0, 1, 1], [1, 1, 0, 0], [1, 1, 0, 0]]\n",
    "        self.N = 10\n",
    "        self.grid = np.zeros((self.N, self.N))\n",
    "        self.grid[3:7, 3:7] = beacon\n",
    "    \n",
    "    def gen_Acorn(self):\n",
    "        '''\n",
    "        gen_Acorn:\n",
    "            This function starts the game with a configuration (which is part of family) which keeps on growing \n",
    "            and then eventually settles down/stabilizes to 'beehive colonies', 'blinkers', 'gliders'. This happens\n",
    "            after ~5.4k updates. \n",
    "        My Observation:\n",
    "            When a gliders collides with blinker it becomes it 4 square static blob. \n",
    "        '''\n",
    "        print('Starting Game of Life with Acorn Configuration....')\n",
    "        print('-'*50)\n",
    "        acorn = [[0, 1, 0, 0, 0, 0, 0], [0, 0, 0, 1, 0, 0, 0], [1, 1, 0, 0, 1, 1, 1]]\n",
    "        self.N = 200\n",
    "        self.grid = np.zeros((self.N, self.N))\n",
    "        self.grid[93:96, 93:100] = acorn\n",
    "    \n",
    "    def gen_Spaceship(self):\n",
    "        '''\n",
    "        gen_Spaceship:\n",
    "            This functions starts the game with one of the most famous light weight sapceship configurations. This part\n",
    "            a of a family of configurations know as 'Spaceships' because they look like spaceship moving on the \n",
    "            infinite plane.\n",
    "        '''\n",
    "        print('Starting Game of Life with Lightweight Spaceship Configuration....')\n",
    "        print('-'*50)\n",
    "        spaceship = [[0, 0, 1, 1, 0], [1, 1, 0, 1, 1], [1, 1, 1, 1, 0], [0, 1, 1, 0, 0]]\n",
    "        self.N = 40\n",
    "        self.grid = np.zeros((self.N, self.N))\n",
    "        self.grid[20:24, 32:37] = spaceship\n",
    "    \n",
    "    def gen_BlockSwitchEngine(self):\n",
    "        '''\n",
    "        gen_BlockSwitchEngine:\n",
    "            This function starts the game with very interesting configurations. Here after few 100 updates we see \n",
    "            4 square static blocks being generated sequentially on the inifinite plane.\n",
    "        '''\n",
    "        print('Starting Game of Life with Block Switch Engine Configuration....')\n",
    "        print('-'*50)\n",
    "        bse = [[0, 0, 0, 0, 0, 0, 1, 0], \n",
    "               [0, 0, 0, 0, 1, 0, 1, 1], \n",
    "               [0, 0, 0, 0, 1, 0, 1, 0], \n",
    "               [0, 0, 0, 0, 1, 0, 0, 0], \n",
    "               [0, 0, 1, 0, 0, 0, 0, 0], \n",
    "               [1, 0, 1, 0, 0, 0, 0, 0]]\n",
    "        self.N = 300\n",
    "        self.grid = np.zeros((self.N, self.N))\n",
    "        self.grid[150:156, 150:158] = bse\n",
    "    \n",
    "    def gen_r_pentomino(self):\n",
    "        '''\n",
    "        gen_r_pentomino:\n",
    "            This function starts the game with a configuration that eventually will stabilize into 'beehive', 'blinker'\n",
    "            and a static block. \n",
    "        '''\n",
    "        print('Starting Game of Life with R-Pentomino Configuration....')\n",
    "        print('-'*50)\n",
    "        pentomino = [[0, 1, 1], [1, 1, 0], [0, 1, 0]]\n",
    "        self.N = 200\n",
    "        self.grid = np.zeros((self.N, self.N))\n",
    "        self.grid[93:96, 93:96] = pentomino\n",
    "        \n",
    "    def next_generation(self, frame, img):\n",
    "        '''\n",
    "        next_generation:\n",
    "            This function will called everytime a frame is updated by the animation function. Here we calculate the \n",
    "            configurations of grid (i.e., alive and dead cells) based on current grid config and Game of Life rules.\n",
    "        Args:\n",
    "            frame: this agrument should be there, as described in the documentation for the animation.FuncAnimation.\n",
    "                    This corresponds to the index of the frame. This can be used in the function by not used here.\n",
    "            img: this corresponds to the image data which will be used to update the frame.\n",
    "        Return:\n",
    "            img: returns the new image. They way it is being returned show stayed as shown below to make compatible with \n",
    "                    animation.FuncAnimation.\n",
    "        '''\n",
    "        # Copy the the original grid\n",
    "        new_grid = deepcopy(self.grid)\n",
    "        for i in range(self.N):\n",
    "            for j in range(self.N):\n",
    "                # Compute the sum of the alive neighbours\n",
    "                # Techanically Game of Life happens on a infinite plane \n",
    "                # but for simplicity we assume that it is happening on Toroidal surface\n",
    "                # This will affect the patterns produce but some inital computations will remain the same\n",
    "                count = int((self.grid[i, (j-1)%self.N] + \n",
    "                             self.grid[i, (j+1)%self.N] + \n",
    "                             self.grid[(i-1)%self.N, j] + \n",
    "                             self.grid[(i+1)%self.N, j] + \n",
    "                             self.grid[(i-1)%self.N, (j-1)%self.N] + \n",
    "                             self.grid[(i-1)%self.N, (j+1)%self.N] + \n",
    "                             self.grid[(i+1)%self.N, (j-1)%self.N] + \n",
    "                             self.grid[(i+1)%self.N, (j+1)%self.N])/1)\n",
    "                # Apply John Conway's rules for Game of Life\n",
    "                if self.grid[i, j] == 1:\n",
    "                    if count < 2 or count > 3:\n",
    "                        new_grid[i, j] = 0\n",
    "                else:\n",
    "                    if count == 3:\n",
    "                        new_grid[i, j] = 1\n",
    "        # Update the frame\n",
    "        img.set_data(new_grid)\n",
    "        self.grid[:] = new_grid[:]\n",
    "        return (img,)\n",
    "    \n",
    "    def next_generation_2(self, frame, img):\n",
    "        '''\n",
    "        next_generation_2:\n",
    "            This function does the same thing as above but in more compact and efficient manner. \n",
    "            \n",
    "        '''\n",
    "        # All the neighbour computations can be done in few lines very tersely\n",
    "        nbrs_count = convolve2d(self.grid, np.ones((3, 3)), mode='same', boundary='wrap') - self.grid\n",
    "        nbrs_count = nbrs_count.astype(np.int)\n",
    "        self.grid = self.grid.astype(np.int)\n",
    "        new_grid = (nbrs_count == 3) | (self.grid & (nbrs_count == 2))\n",
    "        \n",
    "        # Update the frame\n",
    "        img.set_data(new_grid)\n",
    "        self.grid[:] = new_grid[:]\n",
    "        return (img,)\n",
    "        \n",
    "    \n",
    "    def run(self, frame_interval=100, no_of_frames=50, color_map='binary'):\n",
    "        '''\n",
    "        run:\n",
    "            This function is used to do the necessary animation.\n",
    "        Args:\n",
    "            frame_interval: controls the time interval between current and next frame.\n",
    "            no_of_frames: total no. of frames in the animations.\n",
    "            color_map: color map for the animation\n",
    "        Returns:\n",
    "            ani: animation object must be returned for displaying and saving it. It can't be done inside the function\n",
    "                    currently. It is still a open ticket/issuse on the Scipy GitHub (as for now).\n",
    "        '''\n",
    "        fig, ax = plt.subplots(figsize=(8, 8))\n",
    "        img = ax.imshow(self.grid, interpolation='nearest', cmap=color_map)\n",
    "        ani = animation.FuncAnimation(fig, self.next_generation_2, fargs=(img,), \n",
    "                                       frames=no_of_frames, interval=frame_interval, save_count=50)\n",
    "        return ani"
   ]
  },
  {
   "cell_type": "code",
   "execution_count": 3,
   "metadata": {},
   "outputs": [
    {
     "name": "stdout",
     "output_type": "stream",
     "text": [
      "--------------------------------------------------\n",
      "Generating inital configuration....\n",
      "Starting Game of Life with Glider....\n",
      "--------------------------------------------------\n"
     ]
    },
    {
     "data": {
      "image/png": "[encoded data removed]",
      "text/plain": [
       "<Figure size 576x576 with 1 Axes>"
      ]
     },
     "metadata": {
      "needs_background": "light"
     },
     "output_type": "display_data"
    }
   ],
   "source": [
    "gol = GameOfLife()\n",
    "gol.gen_Glider()\n",
    "out_ani= gol.run(no_of_frames=10, frame_interval=100, color_map='viridis') \n",
    "HTML(out_ani.to_jshtml()) # To do animation inline in juptyer notebook\n",
    "out_ani.save('Glider.gif', writer='imagemagick') # To save animation as a gif"
   ]
  },
  {
   "cell_type": "code",
   "execution_count": 4,
   "metadata": {},
   "outputs": [
    {
     "name": "stdout",
     "output_type": "stream",
     "text": [
      "Starting Game of Life with Osillator Pulsar....\n",
      "--------------------------------------------------\n"
     ]
    },
    {
     "data": {
      "image/png": "[encoded data removed]",
      "text/plain": [
       "<Figure size 576x576 with 1 Axes>"
      ]
     },
     "metadata": {
      "needs_background": "light"
     },
     "output_type": "display_data"
    }
   ],
   "source": [
    "gol.gen_Pulsar()\n",
    "out_ani= gol.run(no_of_frames=10, frame_interval=100, color_map='viridis') \n",
    "HTML(out_ani.to_jshtml()) # To do animation inline in juptyer notebook\n",
    "out_ani.save('Pulsar.gif', writer='imagemagick') # To save animation as a gif"
   ]
  },
  {
   "cell_type": "code",
   "execution_count": 5,
   "metadata": {},
   "outputs": [
    {
     "name": "stdout",
     "output_type": "stream",
     "text": [
      "Starting Game of Life with Beacon Configuration....\n",
      "--------------------------------------------------\n"
     ]
    },
    {
     "data": {
      "image/png": "[encoded data removed]",
      "text/plain": [
       "<Figure size 576x576 with 1 Axes>"
      ]
     },
     "metadata": {
      "needs_background": "light"
     },
     "output_type": "display_data"
    }
   ],
   "source": [
    "gol.gen_Beacon()\n",
    "out_ani= gol.run(no_of_frames=10, frame_interval=100, color_map='viridis') \n",
    "HTML(out_ani.to_jshtml()) # To do animation inline in juptyer notebook\n",
    "out_ani.save('Beacon.gif', writer='imagemagick') # To save animation as a gif"
   ]
  },
  {
   "cell_type": "code",
   "execution_count": 6,
   "metadata": {},
   "outputs": [
    {
     "name": "stdout",
     "output_type": "stream",
     "text": [
      "Starting Game of Life with Gosper Glider Gun....\n",
      "--------------------------------------------------\n"
     ]
    },
    {
     "data": {
      "image/png": "[encoded data removed]",
      "text/plain": [
       "<Figure size 576x576 with 1 Axes>"
      ]
     },
     "metadata": {
      "needs_background": "light"
     },
     "output_type": "display_data"
    }
   ],
   "source": [
    "gol.gen_GosperGliderGun()\n",
    "out_ani= gol.run(no_of_frames=50, frame_interval=100, color_map='viridis') \n",
    "HTML(out_ani.to_jshtml()) # To do animation inline in juptyer notebook\n",
    "out_ani.save('Gun.gif', writer='imagemagick') # To save animation as a gif"
   ]
  },
  {
   "cell_type": "code",
   "execution_count": 7,
   "metadata": {},
   "outputs": [
    {
     "name": "stdout",
     "output_type": "stream",
     "text": [
      "Starting Game of Life with Block Switch Engine Configuration....\n",
      "--------------------------------------------------\n"
     ]
    },
    {
     "data": {
      "image/png": "[encoded data removed]",
      "text/plain": [
       "<Figure size 576x576 with 1 Axes>"
      ]
     },
     "metadata": {
      "needs_background": "light"
     },
     "output_type": "display_data"
    }
   ],
   "source": [
    "gol.gen_BlockSwitchEngine()\n",
    "out_ani= gol.run(no_of_frames=100, frame_interval=100, color_map='viridis') \n",
    "HTML(out_ani.to_jshtml()) # To do animation inline in juptyer notebook\n",
    "out_ani.save('Bse.gif', writer='imagemagick') # To save animation as a gif"
   ]
  },
  {
   "cell_type": "code",
   "execution_count": 8,
   "metadata": {},
   "outputs": [
    {
     "name": "stdout",
     "output_type": "stream",
     "text": [
      "Starting Game of Life with R-Pentomino Configuration....\n",
      "--------------------------------------------------\n"
     ]
    },
    {
     "data": {
      "image/png": "[encoded data removed]",
      "text/plain": [
       "<Figure size 576x576 with 1 Axes>"
      ]
     },
     "metadata": {
      "needs_background": "light"
     },
     "output_type": "display_data"
    }
   ],
   "source": [
    "gol.gen_r_pentomino()\n",
    "out_ani= gol.run(no_of_frames=100, frame_interval=100, color_map='viridis') \n",
    "HTML(out_ani.to_jshtml()) # To do animation inline in juptyer notebook\n",
    "out_ani.save('R.gif', writer='imagemagick') # To save animation as a gif"
   ]
  }
 ],
 "metadata": {
  "kernelspec": {
   "display_name": "Python 3",
   "language": "python",
   "name": "python3"
  },
  "language_info": {
   "codemirror_mode": {
    "name": "ipython",
    "version": 3
   },
   "file_extension": ".py",
   "mimetype": "text/x-python",
   "name": "python",
   "nbconvert_exporter": "python",
   "pygments_lexer": "ipython3",
   "version": "3.7.3"
  }
 },
 "nbformat": 4,
 "nbformat_minor": 2
}
